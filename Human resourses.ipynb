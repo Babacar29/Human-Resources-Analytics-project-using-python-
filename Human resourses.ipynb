{
 "cells": [
  {
   "cell_type": "code",
   "execution_count": 138,
   "metadata": {
    "collapsed": false
   },
   "outputs": [],
   "source": [
    "#import libraries\n",
    "import pandas as pd\n",
    "import matplotlib.pyplot as plt\n",
    "import seaborn as sns"
   ]
  },
  {
   "cell_type": "code",
   "execution_count": 99,
   "metadata": {
    "collapsed": false
   },
   "outputs": [
    {
     "data": {
      "text/html": [
       "<div style=\"max-height:1000px;max-width:1500px;overflow:auto;\">\n",
       "<table border=\"1\" class=\"dataframe\">\n",
       "  <thead>\n",
       "    <tr style=\"text-align: right;\">\n",
       "      <th></th>\n",
       "      <th>satisfaction_level</th>\n",
       "      <th>last_evaluation</th>\n",
       "      <th>number_project</th>\n",
       "      <th>average_montly_hours</th>\n",
       "      <th>time_spend_company</th>\n",
       "      <th>Work_accident</th>\n",
       "      <th>left</th>\n",
       "      <th>promotion_last_5years</th>\n",
       "      <th>sales</th>\n",
       "      <th>salary</th>\n",
       "    </tr>\n",
       "  </thead>\n",
       "  <tbody>\n",
       "    <tr>\n",
       "      <th>0</th>\n",
       "      <td> 0.38</td>\n",
       "      <td> 0.53</td>\n",
       "      <td> 2</td>\n",
       "      <td> 157</td>\n",
       "      <td> 3</td>\n",
       "      <td> 0</td>\n",
       "      <td> 1</td>\n",
       "      <td> 0</td>\n",
       "      <td> sales</td>\n",
       "      <td>    low</td>\n",
       "    </tr>\n",
       "    <tr>\n",
       "      <th>1</th>\n",
       "      <td> 0.80</td>\n",
       "      <td> 0.86</td>\n",
       "      <td> 5</td>\n",
       "      <td> 262</td>\n",
       "      <td> 6</td>\n",
       "      <td> 0</td>\n",
       "      <td> 1</td>\n",
       "      <td> 0</td>\n",
       "      <td> sales</td>\n",
       "      <td> medium</td>\n",
       "    </tr>\n",
       "    <tr>\n",
       "      <th>2</th>\n",
       "      <td> 0.11</td>\n",
       "      <td> 0.88</td>\n",
       "      <td> 7</td>\n",
       "      <td> 272</td>\n",
       "      <td> 4</td>\n",
       "      <td> 0</td>\n",
       "      <td> 1</td>\n",
       "      <td> 0</td>\n",
       "      <td> sales</td>\n",
       "      <td> medium</td>\n",
       "    </tr>\n",
       "    <tr>\n",
       "      <th>3</th>\n",
       "      <td> 0.72</td>\n",
       "      <td> 0.87</td>\n",
       "      <td> 5</td>\n",
       "      <td> 223</td>\n",
       "      <td> 5</td>\n",
       "      <td> 0</td>\n",
       "      <td> 1</td>\n",
       "      <td> 0</td>\n",
       "      <td> sales</td>\n",
       "      <td>    low</td>\n",
       "    </tr>\n",
       "    <tr>\n",
       "      <th>4</th>\n",
       "      <td> 0.37</td>\n",
       "      <td> 0.52</td>\n",
       "      <td> 2</td>\n",
       "      <td> 159</td>\n",
       "      <td> 3</td>\n",
       "      <td> 0</td>\n",
       "      <td> 1</td>\n",
       "      <td> 0</td>\n",
       "      <td> sales</td>\n",
       "      <td>    low</td>\n",
       "    </tr>\n",
       "  </tbody>\n",
       "</table>\n",
       "<p>5 rows × 10 columns</p>\n",
       "</div>"
      ],
      "text/plain": [
       "   satisfaction_level  last_evaluation  number_project  average_montly_hours  \\\n",
       "0                0.38             0.53               2                   157   \n",
       "1                0.80             0.86               5                   262   \n",
       "2                0.11             0.88               7                   272   \n",
       "3                0.72             0.87               5                   223   \n",
       "4                0.37             0.52               2                   159   \n",
       "\n",
       "   time_spend_company  Work_accident  left  promotion_last_5years  sales  \\\n",
       "0                   3              0     1                      0  sales   \n",
       "1                   6              0     1                      0  sales   \n",
       "2                   4              0     1                      0  sales   \n",
       "3                   5              0     1                      0  sales   \n",
       "4                   3              0     1                      0  sales   \n",
       "\n",
       "   salary  \n",
       "0     low  \n",
       "1  medium  \n",
       "2  medium  \n",
       "3     low  \n",
       "4     low  \n",
       "\n",
       "[5 rows x 10 columns]"
      ]
     },
     "execution_count": 99,
     "metadata": {},
     "output_type": "execute_result"
    }
   ],
   "source": [
    "#read data file\n",
    "data = pd.read_csv('HR_comma_sep.csv')\n",
    "data.head() # will give top five rows "
   ]
  },
  {
   "cell_type": "code",
   "execution_count": 81,
   "metadata": {
    "collapsed": false
   },
   "outputs": [
    {
     "data": {
      "text/html": [
       "<div style=\"max-height:1000px;max-width:1500px;overflow:auto;\">\n",
       "<table border=\"1\" class=\"dataframe\">\n",
       "  <thead>\n",
       "    <tr style=\"text-align: right;\">\n",
       "      <th></th>\n",
       "      <th>satisfaction_level</th>\n",
       "      <th>last_evaluation</th>\n",
       "      <th>number_project</th>\n",
       "      <th>average_montly_hours</th>\n",
       "      <th>time_spend_company</th>\n",
       "      <th>Work_accident</th>\n",
       "      <th>left</th>\n",
       "      <th>promotion_last_5years</th>\n",
       "      <th>sales</th>\n",
       "      <th>salary</th>\n",
       "    </tr>\n",
       "  </thead>\n",
       "  <tbody>\n",
       "    <tr>\n",
       "      <th>14994</th>\n",
       "      <td> 0.40</td>\n",
       "      <td> 0.57</td>\n",
       "      <td> 2</td>\n",
       "      <td> 151</td>\n",
       "      <td> 3</td>\n",
       "      <td> 0</td>\n",
       "      <td> 1</td>\n",
       "      <td> 0</td>\n",
       "      <td> support</td>\n",
       "      <td> low</td>\n",
       "    </tr>\n",
       "    <tr>\n",
       "      <th>14995</th>\n",
       "      <td> 0.37</td>\n",
       "      <td> 0.48</td>\n",
       "      <td> 2</td>\n",
       "      <td> 160</td>\n",
       "      <td> 3</td>\n",
       "      <td> 0</td>\n",
       "      <td> 1</td>\n",
       "      <td> 0</td>\n",
       "      <td> support</td>\n",
       "      <td> low</td>\n",
       "    </tr>\n",
       "    <tr>\n",
       "      <th>14996</th>\n",
       "      <td> 0.37</td>\n",
       "      <td> 0.53</td>\n",
       "      <td> 2</td>\n",
       "      <td> 143</td>\n",
       "      <td> 3</td>\n",
       "      <td> 0</td>\n",
       "      <td> 1</td>\n",
       "      <td> 0</td>\n",
       "      <td> support</td>\n",
       "      <td> low</td>\n",
       "    </tr>\n",
       "    <tr>\n",
       "      <th>14997</th>\n",
       "      <td> 0.11</td>\n",
       "      <td> 0.96</td>\n",
       "      <td> 6</td>\n",
       "      <td> 280</td>\n",
       "      <td> 4</td>\n",
       "      <td> 0</td>\n",
       "      <td> 1</td>\n",
       "      <td> 0</td>\n",
       "      <td> support</td>\n",
       "      <td> low</td>\n",
       "    </tr>\n",
       "    <tr>\n",
       "      <th>14998</th>\n",
       "      <td> 0.37</td>\n",
       "      <td> 0.52</td>\n",
       "      <td> 2</td>\n",
       "      <td> 158</td>\n",
       "      <td> 3</td>\n",
       "      <td> 0</td>\n",
       "      <td> 1</td>\n",
       "      <td> 0</td>\n",
       "      <td> support</td>\n",
       "      <td> low</td>\n",
       "    </tr>\n",
       "  </tbody>\n",
       "</table>\n",
       "<p>5 rows × 10 columns</p>\n",
       "</div>"
      ],
      "text/plain": [
       "       satisfaction_level  last_evaluation  number_project  \\\n",
       "14994                0.40             0.57               2   \n",
       "14995                0.37             0.48               2   \n",
       "14996                0.37             0.53               2   \n",
       "14997                0.11             0.96               6   \n",
       "14998                0.37             0.52               2   \n",
       "\n",
       "       average_montly_hours  time_spend_company  Work_accident  left  \\\n",
       "14994                   151                   3              0     1   \n",
       "14995                   160                   3              0     1   \n",
       "14996                   143                   3              0     1   \n",
       "14997                   280                   4              0     1   \n",
       "14998                   158                   3              0     1   \n",
       "\n",
       "       promotion_last_5years    sales salary  \n",
       "14994                      0  support    low  \n",
       "14995                      0  support    low  \n",
       "14996                      0  support    low  \n",
       "14997                      0  support    low  \n",
       "14998                      0  support    low  \n",
       "\n",
       "[5 rows x 10 columns]"
      ]
     },
     "execution_count": 81,
     "metadata": {},
     "output_type": "execute_result"
    }
   ],
   "source": [
    "data.tail() # give last five rows "
   ]
  },
  {
   "cell_type": "code",
   "execution_count": 82,
   "metadata": {
    "collapsed": false
   },
   "outputs": [
    {
     "data": {
      "text/plain": [
       "(14999, 10)"
      ]
     },
     "execution_count": 82,
     "metadata": {},
     "output_type": "execute_result"
    }
   ],
   "source": [
    "data.shape # print shape(row, column)"
   ]
  },
  {
   "cell_type": "code",
   "execution_count": 83,
   "metadata": {
    "collapsed": false
   },
   "outputs": [
    {
     "data": {
      "text/html": [
       "<div style=\"max-height:1000px;max-width:1500px;overflow:auto;\">\n",
       "<table border=\"1\" class=\"dataframe\">\n",
       "  <thead>\n",
       "    <tr style=\"text-align: right;\">\n",
       "      <th></th>\n",
       "      <th>satisfaction_level</th>\n",
       "      <th>last_evaluation</th>\n",
       "      <th>number_project</th>\n",
       "      <th>average_montly_hours</th>\n",
       "      <th>time_spend_company</th>\n",
       "      <th>Work_accident</th>\n",
       "      <th>left</th>\n",
       "      <th>promotion_last_5years</th>\n",
       "    </tr>\n",
       "  </thead>\n",
       "  <tbody>\n",
       "    <tr>\n",
       "      <th>count</th>\n",
       "      <td> 14999.000000</td>\n",
       "      <td> 14999.000000</td>\n",
       "      <td> 14999.000000</td>\n",
       "      <td> 14999.000000</td>\n",
       "      <td> 14999.000000</td>\n",
       "      <td> 14999.000000</td>\n",
       "      <td> 14999.000000</td>\n",
       "      <td> 14999.000000</td>\n",
       "    </tr>\n",
       "    <tr>\n",
       "      <th>mean</th>\n",
       "      <td>     0.612834</td>\n",
       "      <td>     0.716102</td>\n",
       "      <td>     3.803054</td>\n",
       "      <td>   201.050337</td>\n",
       "      <td>     3.498233</td>\n",
       "      <td>     0.144610</td>\n",
       "      <td>     0.238083</td>\n",
       "      <td>     0.021268</td>\n",
       "    </tr>\n",
       "    <tr>\n",
       "      <th>std</th>\n",
       "      <td>     0.248631</td>\n",
       "      <td>     0.171169</td>\n",
       "      <td>     1.232592</td>\n",
       "      <td>    49.943099</td>\n",
       "      <td>     1.460136</td>\n",
       "      <td>     0.351719</td>\n",
       "      <td>     0.425924</td>\n",
       "      <td>     0.144281</td>\n",
       "    </tr>\n",
       "    <tr>\n",
       "      <th>min</th>\n",
       "      <td>     0.090000</td>\n",
       "      <td>     0.360000</td>\n",
       "      <td>     2.000000</td>\n",
       "      <td>    96.000000</td>\n",
       "      <td>     2.000000</td>\n",
       "      <td>     0.000000</td>\n",
       "      <td>     0.000000</td>\n",
       "      <td>     0.000000</td>\n",
       "    </tr>\n",
       "    <tr>\n",
       "      <th>25%</th>\n",
       "      <td>     0.440000</td>\n",
       "      <td>     0.560000</td>\n",
       "      <td>     3.000000</td>\n",
       "      <td>   156.000000</td>\n",
       "      <td>     3.000000</td>\n",
       "      <td>     0.000000</td>\n",
       "      <td>     0.000000</td>\n",
       "      <td>     0.000000</td>\n",
       "    </tr>\n",
       "    <tr>\n",
       "      <th>50%</th>\n",
       "      <td>     0.640000</td>\n",
       "      <td>     0.720000</td>\n",
       "      <td>     4.000000</td>\n",
       "      <td>   200.000000</td>\n",
       "      <td>     3.000000</td>\n",
       "      <td>     0.000000</td>\n",
       "      <td>     0.000000</td>\n",
       "      <td>     0.000000</td>\n",
       "    </tr>\n",
       "    <tr>\n",
       "      <th>75%</th>\n",
       "      <td>     0.820000</td>\n",
       "      <td>     0.870000</td>\n",
       "      <td>     5.000000</td>\n",
       "      <td>   245.000000</td>\n",
       "      <td>     4.000000</td>\n",
       "      <td>     0.000000</td>\n",
       "      <td>     0.000000</td>\n",
       "      <td>     0.000000</td>\n",
       "    </tr>\n",
       "    <tr>\n",
       "      <th>max</th>\n",
       "      <td>     1.000000</td>\n",
       "      <td>     1.000000</td>\n",
       "      <td>     7.000000</td>\n",
       "      <td>   310.000000</td>\n",
       "      <td>    10.000000</td>\n",
       "      <td>     1.000000</td>\n",
       "      <td>     1.000000</td>\n",
       "      <td>     1.000000</td>\n",
       "    </tr>\n",
       "  </tbody>\n",
       "</table>\n",
       "<p>8 rows × 8 columns</p>\n",
       "</div>"
      ],
      "text/plain": [
       "       satisfaction_level  last_evaluation  number_project  \\\n",
       "count        14999.000000     14999.000000    14999.000000   \n",
       "mean             0.612834         0.716102        3.803054   \n",
       "std              0.248631         0.171169        1.232592   \n",
       "min              0.090000         0.360000        2.000000   \n",
       "25%              0.440000         0.560000        3.000000   \n",
       "50%              0.640000         0.720000        4.000000   \n",
       "75%              0.820000         0.870000        5.000000   \n",
       "max              1.000000         1.000000        7.000000   \n",
       "\n",
       "       average_montly_hours  time_spend_company  Work_accident          left  \\\n",
       "count          14999.000000        14999.000000   14999.000000  14999.000000   \n",
       "mean             201.050337            3.498233       0.144610      0.238083   \n",
       "std               49.943099            1.460136       0.351719      0.425924   \n",
       "min               96.000000            2.000000       0.000000      0.000000   \n",
       "25%              156.000000            3.000000       0.000000      0.000000   \n",
       "50%              200.000000            3.000000       0.000000      0.000000   \n",
       "75%              245.000000            4.000000       0.000000      0.000000   \n",
       "max              310.000000           10.000000       1.000000      1.000000   \n",
       "\n",
       "       promotion_last_5years  \n",
       "count           14999.000000  \n",
       "mean                0.021268  \n",
       "std                 0.144281  \n",
       "min                 0.000000  \n",
       "25%                 0.000000  \n",
       "50%                 0.000000  \n",
       "75%                 0.000000  \n",
       "max                 1.000000  \n",
       "\n",
       "[8 rows x 8 columns]"
      ]
     },
     "execution_count": 83,
     "metadata": {},
     "output_type": "execute_result"
    }
   ],
   "source": [
    "data.describe()"
   ]
  },
  {
   "cell_type": "code",
   "execution_count": 84,
   "metadata": {
    "collapsed": false
   },
   "outputs": [
    {
     "name": "stdout",
     "output_type": "stream",
     "text": [
      "<class 'pandas.core.frame.DataFrame'>\n",
      "Int64Index: 14999 entries, 0 to 14998\n",
      "Data columns (total 10 columns):\n",
      "satisfaction_level       14999 non-null float64\n",
      "last_evaluation          14999 non-null float64\n",
      "number_project           14999 non-null int64\n",
      "average_montly_hours     14999 non-null int64\n",
      "time_spend_company       14999 non-null int64\n",
      "Work_accident            14999 non-null int64\n",
      "left                     14999 non-null int64\n",
      "promotion_last_5years    14999 non-null int64\n",
      "sales                    14999 non-null object\n",
      "salary                   14999 non-null object\n",
      "dtypes: float64(2), int64(6), object(2)"
     ]
    }
   ],
   "source": [
    "data.info()  # check what kind of datas are "
   ]
  },
  {
   "cell_type": "code",
   "execution_count": 85,
   "metadata": {
    "collapsed": false
   },
   "outputs": [
    {
     "name": "stdout",
     "output_type": "stream",
     "text": [
      "salary\n",
      "high      1237\n",
      "low       7316\n",
      "medium    6446\n",
      "dtype: int64\n"
     ]
    }
   ],
   "source": [
    "# check how many salary types we have \n",
    "print data.groupby('salary').size()"
   ]
  },
  {
   "cell_type": "code",
   "execution_count": 86,
   "metadata": {
    "collapsed": false
   },
   "outputs": [
    {
     "data": {
      "text/plain": [
       "False"
      ]
     },
     "execution_count": 86,
     "metadata": {},
     "output_type": "execute_result"
    }
   ],
   "source": [
    "data.isnull().values.any()  # check data has any values null/nan or not"
   ]
  },
  {
   "cell_type": "code",
   "execution_count": 87,
   "metadata": {
    "collapsed": false
   },
   "outputs": [
    {
     "name": "stdout",
     "output_type": "stream",
     "text": [
      "['satisfaction_level', 'last_evaluation', 'number_project', 'average_montly_hours', 'time_spend_company', 'Work_accident', 'left', 'promotion_last_5years', 'sales', 'salary']\n"
     ]
    }
   ],
   "source": [
    "column_names = data.columns.tolist()\n",
    "print column_names"
   ]
  },
  {
   "cell_type": "code",
   "execution_count": 88,
   "metadata": {
    "collapsed": false
   },
   "outputs": [
    {
     "data": {
      "text/plain": [
       "satisfaction_level       3571\n",
       "last_evaluation          3571\n",
       "number_project           3571\n",
       "average_montly_hours     3571\n",
       "time_spend_company       3571\n",
       "Work_accident            3571\n",
       "left                     3571\n",
       "promotion_last_5years    3571\n",
       "sales                    3571\n",
       "salary                   3571\n",
       "dtype: int64"
      ]
     },
     "execution_count": 88,
     "metadata": {},
     "output_type": "execute_result"
    }
   ],
   "source": [
    "data[data['left'] == 1].count()"
   ]
  },
  {
   "cell_type": "markdown",
   "metadata": {},
   "source": [
    "3571 employees are left out of 14999."
   ]
  },
  {
   "cell_type": "code",
   "execution_count": 128,
   "metadata": {
    "collapsed": false
   },
   "outputs": [
    {
     "data": {
      "text/plain": [
       "11428"
      ]
     },
     "execution_count": 128,
     "metadata": {},
     "output_type": "execute_result"
    }
   ],
   "source": [
    "#data[data['left'] == 0].count() \n",
    "    # or\n",
    "data[data['left'] == 0].shape[0]    "
   ]
  },
  {
   "cell_type": "code",
   "execution_count": 101,
   "metadata": {
    "collapsed": true
   },
   "outputs": [],
   "source": [
    "# 11428 number of employee are still working."
   ]
  },
  {
   "cell_type": "markdown",
   "metadata": {},
   "source": [
    "Why employees are leaving?"
   ]
  },
  {
   "cell_type": "code",
   "execution_count": 98,
   "metadata": {
    "collapsed": false
   },
   "outputs": [
    {
     "name": "stdout",
     "output_type": "stream",
     "text": [
      "satisfaction_level         0.440098\n",
      "last_evaluation            0.718113\n",
      "number_project             3.855503\n",
      "average_montly_hours     207.419210\n",
      "time_spend_company         3.876505\n",
      "Work_accident              0.047326\n",
      "left                       1.000000\n",
      "promotion_last_5years      0.005321\n",
      "dtype: float64\n"
     ]
    }
   ],
   "source": [
    "a = data[data['left']==1].mean()\n",
    "print a"
   ]
  },
  {
   "cell_type": "code",
   "execution_count": null,
   "metadata": {
    "collapsed": true
   },
   "outputs": [],
   "source": [
    "b  = data[data['left'] == 0].mean()\n",
    "print b"
   ]
  },
  {
   "cell_type": "code",
   "execution_count": 108,
   "metadata": {
    "collapsed": false
   },
   "outputs": [
    {
     "name": "stdout",
     "output_type": "stream",
     "text": [
      "working_hour of those who have left =  6.91397367684\n",
      "working_hour of those who are still working =  6.63534010034\n"
     ]
    }
   ],
   "source": [
    "work_hour  = a['average_montly_hours']/30\n",
    "working_hour = b['average_montly_hours']/30\n",
    "print \"working_hour of those who have left = \", work_hour\n",
    "print \"working_hour of those who are still working = \", working_hour"
   ]
  },
  {
   "cell_type": "code",
   "execution_count": 111,
   "metadata": {
    "collapsed": false
   },
   "outputs": [
    {
     "name": "stdout",
     "output_type": "stream",
     "text": [
      "promotion_last_5years those who have left =  0.00532063847662\n",
      "promotion_last_5years those who are working =  0.0262513125656\n",
      "promotion_last_5years percentage more than who left =  4.93386511431\n"
     ]
    }
   ],
   "source": [
    "promotion = a['promotion_last_5years']\n",
    "pro =  b['promotion_last_5years']\n",
    "print \"promotion_last_5years those who have left = \", promotion\n",
    "print \"promotion_last_5years those who are working = \", pro\n",
    "print \"promotion_last_5years percentage more than who left = \", (pro/promotion)%100"
   ]
  },
  {
   "cell_type": "markdown",
   "metadata": {},
   "source": [
    "if we compare a and b then we can say main reaspon are promotion_last_5years,working hours,time_spend_company,last_evaluation\n",
    "  "
   ]
  },
  {
   "cell_type": "code",
   "execution_count": 131,
   "metadata": {
    "collapsed": false
   },
   "outputs": [],
   "source": [
    "# lets see the reason for leaving employee by correlation"
   ]
  },
  {
   "cell_type": "code",
   "execution_count": 133,
   "metadata": {
    "collapsed": false
   },
   "outputs": [
    {
     "data": {
      "text/html": [
       "<div style=\"max-height:1000px;max-width:1500px;overflow:auto;\">\n",
       "<table border=\"1\" class=\"dataframe\">\n",
       "  <thead>\n",
       "    <tr style=\"text-align: right;\">\n",
       "      <th></th>\n",
       "      <th>satisfaction_level</th>\n",
       "      <th>last_evaluation</th>\n",
       "      <th>number_project</th>\n",
       "      <th>average_montly_hours</th>\n",
       "      <th>time_spend_company</th>\n",
       "      <th>Work_accident</th>\n",
       "      <th>left</th>\n",
       "      <th>promotion_last_5years</th>\n",
       "    </tr>\n",
       "  </thead>\n",
       "  <tbody>\n",
       "    <tr>\n",
       "      <th>satisfaction_level</th>\n",
       "      <td> 1.000000</td>\n",
       "      <td> 0.105021</td>\n",
       "      <td>-0.142970</td>\n",
       "      <td>-0.020048</td>\n",
       "      <td>-0.100866</td>\n",
       "      <td> 0.058697</td>\n",
       "      <td>-0.388375</td>\n",
       "      <td> 0.025605</td>\n",
       "    </tr>\n",
       "    <tr>\n",
       "      <th>last_evaluation</th>\n",
       "      <td> 0.105021</td>\n",
       "      <td> 1.000000</td>\n",
       "      <td> 0.349333</td>\n",
       "      <td> 0.339742</td>\n",
       "      <td> 0.131591</td>\n",
       "      <td>-0.007104</td>\n",
       "      <td> 0.006567</td>\n",
       "      <td>-0.008684</td>\n",
       "    </tr>\n",
       "    <tr>\n",
       "      <th>number_project</th>\n",
       "      <td>-0.142970</td>\n",
       "      <td> 0.349333</td>\n",
       "      <td> 1.000000</td>\n",
       "      <td> 0.417211</td>\n",
       "      <td> 0.196786</td>\n",
       "      <td>-0.004741</td>\n",
       "      <td> 0.023787</td>\n",
       "      <td>-0.006064</td>\n",
       "    </tr>\n",
       "    <tr>\n",
       "      <th>average_montly_hours</th>\n",
       "      <td>-0.020048</td>\n",
       "      <td> 0.339742</td>\n",
       "      <td> 0.417211</td>\n",
       "      <td> 1.000000</td>\n",
       "      <td> 0.127755</td>\n",
       "      <td>-0.010143</td>\n",
       "      <td> 0.071287</td>\n",
       "      <td>-0.003544</td>\n",
       "    </tr>\n",
       "    <tr>\n",
       "      <th>time_spend_company</th>\n",
       "      <td>-0.100866</td>\n",
       "      <td> 0.131591</td>\n",
       "      <td> 0.196786</td>\n",
       "      <td> 0.127755</td>\n",
       "      <td> 1.000000</td>\n",
       "      <td> 0.002120</td>\n",
       "      <td> 0.144822</td>\n",
       "      <td> 0.067433</td>\n",
       "    </tr>\n",
       "    <tr>\n",
       "      <th>Work_accident</th>\n",
       "      <td> 0.058697</td>\n",
       "      <td>-0.007104</td>\n",
       "      <td>-0.004741</td>\n",
       "      <td>-0.010143</td>\n",
       "      <td> 0.002120</td>\n",
       "      <td> 1.000000</td>\n",
       "      <td>-0.154622</td>\n",
       "      <td> 0.039245</td>\n",
       "    </tr>\n",
       "    <tr>\n",
       "      <th>left</th>\n",
       "      <td>-0.388375</td>\n",
       "      <td> 0.006567</td>\n",
       "      <td> 0.023787</td>\n",
       "      <td> 0.071287</td>\n",
       "      <td> 0.144822</td>\n",
       "      <td>-0.154622</td>\n",
       "      <td> 1.000000</td>\n",
       "      <td>-0.061788</td>\n",
       "    </tr>\n",
       "    <tr>\n",
       "      <th>promotion_last_5years</th>\n",
       "      <td> 0.025605</td>\n",
       "      <td>-0.008684</td>\n",
       "      <td>-0.006064</td>\n",
       "      <td>-0.003544</td>\n",
       "      <td> 0.067433</td>\n",
       "      <td> 0.039245</td>\n",
       "      <td>-0.061788</td>\n",
       "      <td> 1.000000</td>\n",
       "    </tr>\n",
       "  </tbody>\n",
       "</table>\n",
       "<p>8 rows × 8 columns</p>\n",
       "</div>"
      ],
      "text/plain": [
       "                       satisfaction_level  last_evaluation  number_project  \\\n",
       "satisfaction_level               1.000000         0.105021       -0.142970   \n",
       "last_evaluation                  0.105021         1.000000        0.349333   \n",
       "number_project                  -0.142970         0.349333        1.000000   \n",
       "average_montly_hours            -0.020048         0.339742        0.417211   \n",
       "time_spend_company              -0.100866         0.131591        0.196786   \n",
       "Work_accident                    0.058697        -0.007104       -0.004741   \n",
       "left                            -0.388375         0.006567        0.023787   \n",
       "promotion_last_5years            0.025605        -0.008684       -0.006064   \n",
       "\n",
       "                       average_montly_hours  time_spend_company  \\\n",
       "satisfaction_level                -0.020048           -0.100866   \n",
       "last_evaluation                    0.339742            0.131591   \n",
       "number_project                     0.417211            0.196786   \n",
       "average_montly_hours               1.000000            0.127755   \n",
       "time_spend_company                 0.127755            1.000000   \n",
       "Work_accident                     -0.010143            0.002120   \n",
       "left                               0.071287            0.144822   \n",
       "promotion_last_5years             -0.003544            0.067433   \n",
       "\n",
       "                       Work_accident      left  promotion_last_5years  \n",
       "satisfaction_level          0.058697 -0.388375               0.025605  \n",
       "last_evaluation            -0.007104  0.006567              -0.008684  \n",
       "number_project             -0.004741  0.023787              -0.006064  \n",
       "average_montly_hours       -0.010143  0.071287              -0.003544  \n",
       "time_spend_company          0.002120  0.144822               0.067433  \n",
       "Work_accident               1.000000 -0.154622               0.039245  \n",
       "left                       -0.154622  1.000000              -0.061788  \n",
       "promotion_last_5years       0.039245 -0.061788               1.000000  \n",
       "\n",
       "[8 rows x 8 columns]"
      ]
     },
     "execution_count": 133,
     "metadata": {},
     "output_type": "execute_result"
    }
   ],
   "source": [
    "variable_correlation = data.corr()\n",
    "variable_correlation"
   ]
  },
  {
   "cell_type": "markdown",
   "metadata": {},
   "source": [
    "Correlation matrix"
   ]
  },
  {
   "cell_type": "code",
   "execution_count": 141,
   "metadata": {
    "collapsed": false
   },
   "outputs": [
    {
     "data": {
      "image/png": "[encoded data removed]",
      "text/plain": [
       "<matplotlib.figure.Figure at 0x7f4818a34c90>"
      ]
     },
     "metadata": {},
     "output_type": "display_data"
    }
   ],
   "source": [
    "f, ax = plt.subplots(figsize=(6, 6))\n",
    "# Draw the heatmap using seaborn\n",
    "sns.heatmap(variable_correlation, square=True)\n",
    "plt.show()"
   ]
  },
  {
   "cell_type": "code",
   "execution_count": 150,
   "metadata": {
    "collapsed": true
   },
   "outputs": [],
   "source": [
    "# box plot to see comparision by salary"
   ]
  },
  {
   "cell_type": "code",
   "execution_count": 151,
   "metadata": {
    "collapsed": false
   },
   "outputs": [
    {
     "data": {
      "text/plain": [
       "<matplotlib.axes.AxesSubplot at 0x7f480d0a76d0>"
      ]
     },
     "execution_count": 151,
     "metadata": {},
     "output_type": "execute_result"
    },
    {
     "data": {
      "image/png": "[encoded data removed]",
      "text/plain": [
       "<matplotlib.figure.Figure at 0x7f480d1e5850>"
      ]
     },
     "metadata": {},
     "output_type": "display_data"
    }
   ],
   "source": [
    "data.boxplot(column= 'satisfaction_level', by='salary', grid=False)"
   ]
  },
  {
   "cell_type": "code",
   "execution_count": 152,
   "metadata": {
    "collapsed": false
   },
   "outputs": [
    {
     "data": {
      "text/plain": [
       "<matplotlib.axes.AxesSubplot at 0x7f480cfb0390>"
      ]
     },
     "execution_count": 152,
     "metadata": {},
     "output_type": "execute_result"
    },
    {
     "data": {
      "image/png": "[encoded data removed]",
      "text/plain": [
       "<matplotlib.figure.Figure at 0x7f480f092750>"
      ]
     },
     "metadata": {},
     "output_type": "display_data"
    }
   ],
   "source": [
    "data.boxplot(column= 'last_evaluation', by='salary', grid=False)"
   ]
  },
  {
   "cell_type": "code",
   "execution_count": 160,
   "metadata": {
    "collapsed": false
   },
   "outputs": [
    {
     "data": {
      "text/plain": [
       "<matplotlib.axes.AxesSubplot at 0x7f480b320ad0>"
      ]
     },
     "execution_count": 160,
     "metadata": {},
     "output_type": "execute_result"
    },
    {
     "data": {
      "image/png": "[encoded data removed]",
      "text/plain": [
       "<matplotlib.figure.Figure at 0x7f480aeda110>"
      ]
     },
     "metadata": {},
     "output_type": "display_data"
    }
   ],
   "source": [
    "data.boxplot(column= 'number_project', by='salary', grid=False)\n"
   ]
  },
  {
   "cell_type": "code",
   "execution_count": 161,
   "metadata": {
    "collapsed": false
   },
   "outputs": [
    {
     "data": {
      "text/plain": [
       "<matplotlib.axes.AxesSubplot at 0x7f480ce1cf90>"
      ]
     },
     "execution_count": 161,
     "metadata": {},
     "output_type": "execute_result"
    },
    {
     "data": {
      "image/png": "[encoded data removed]",
      "text/plain": [
       "<matplotlib.figure.Figure at 0x7f480cd3ec10>"
      ]
     },
     "metadata": {},
     "output_type": "display_data"
    }
   ],
   "source": [
    "data.boxplot(column= 'average_montly_hours', by='salary', grid=False)"
   ]
  },
  {
   "cell_type": "code",
   "execution_count": 162,
   "metadata": {
    "collapsed": false
   },
   "outputs": [
    {
     "data": {
      "text/plain": [
       "<matplotlib.axes.AxesSubplot at 0x7f480b4e6250>"
      ]
     },
     "execution_count": 162,
     "metadata": {},
     "output_type": "execute_result"
    },
    {
     "data": {
      "image/png": "[encoded data removed]",
      "text/plain": [
       "<matplotlib.figure.Figure at 0x7f480d295510>"
      ]
     },
     "metadata": {},
     "output_type": "display_data"
    }
   ],
   "source": [
    "data.boxplot(column= 'time_spend_company', by='salary', grid=False)"
   ]
  },
  {
   "cell_type": "code",
   "execution_count": 163,
   "metadata": {
    "collapsed": false
   },
   "outputs": [
    {
     "data": {
      "text/plain": [
       "<matplotlib.axes.AxesSubplot at 0x7f480ce5dd90>"
      ]
     },
     "execution_count": 163,
     "metadata": {},
     "output_type": "execute_result"
    },
    {
     "data": {
      "image/png": "[encoded data removed]",
      "text/plain": [
       "<matplotlib.figure.Figure at 0x7f480cdf0a10>"
      ]
     },
     "metadata": {},
     "output_type": "display_data"
    }
   ],
   "source": [
    "data.boxplot(column= 'Work_accident', by='salary', grid=False)"
   ]
  },
  {
   "cell_type": "code",
   "execution_count": 164,
   "metadata": {
    "collapsed": false
   },
   "outputs": [
    {
     "data": {
      "text/plain": [
       "<matplotlib.axes.AxesSubplot at 0x7f480cd527d0>"
      ]
     },
     "execution_count": 164,
     "metadata": {},
     "output_type": "execute_result"
    },
    {
     "data": {
      "image/png": "[encoded data removed]",
      "text/plain": [
       "<matplotlib.figure.Figure at 0x7f480cd77490>"
      ]
     },
     "metadata": {},
     "output_type": "display_data"
    }
   ],
   "source": [
    "data.boxplot(column= 'left', by='salary', grid=False)"
   ]
  },
  {
   "cell_type": "code",
   "execution_count": 165,
   "metadata": {
    "collapsed": false
   },
   "outputs": [
    {
     "data": {
      "text/plain": [
       "<matplotlib.axes.AxesSubplot at 0x7f480cdad610>"
      ]
     },
     "execution_count": 165,
     "metadata": {},
     "output_type": "execute_result"
    },
    {
     "data": {
      "image/png": "[encoded data removed]",
      "text/plain": [
       "<matplotlib.figure.Figure at 0x7f480cd9da50>"
      ]
     },
     "metadata": {},
     "output_type": "display_data"
    }
   ],
   "source": [
    "data.boxplot(column= 'promotion_last_5years', by='salary', grid=False)"
   ]
  },
  {
   "cell_type": "markdown",
   "metadata": {},
   "source": [
    "# make prediction of (left = 1 ) by other features"
   ]
  },
  {
   "cell_type": "code",
   "execution_count": 284,
   "metadata": {
    "collapsed": false
   },
   "outputs": [],
   "source": [
    "from sklearn.metrics import accuracy_score\n",
    "from sklearn.neighbors import KNeighborsClassifier\n",
    "from sklearn.cross_validation import train_test_split\n",
    "from sklearn.ensemble import RandomForestClassifier\n",
    "from sklearn.metrics import accuracy_score\n",
    "from sklearn.cross_validation import cross_val_score"
   ]
  },
  {
   "cell_type": "code",
   "execution_count": 285,
   "metadata": {
    "collapsed": false
   },
   "outputs": [
    {
     "data": {
      "text/html": [
       "<div style=\"max-height:1000px;max-width:1500px;overflow:auto;\">\n",
       "<table border=\"1\" class=\"dataframe\">\n",
       "  <thead>\n",
       "    <tr style=\"text-align: right;\">\n",
       "      <th></th>\n",
       "      <th>satisfaction_level</th>\n",
       "      <th>last_evaluation</th>\n",
       "      <th>number_project</th>\n",
       "      <th>average_montly_hours</th>\n",
       "      <th>time_spend_company</th>\n",
       "      <th>Work_accident</th>\n",
       "      <th>left</th>\n",
       "      <th>promotion_last_5years</th>\n",
       "      <th>sales</th>\n",
       "      <th>salary</th>\n",
       "    </tr>\n",
       "  </thead>\n",
       "  <tbody>\n",
       "    <tr>\n",
       "      <th>0</th>\n",
       "      <td> 0.38</td>\n",
       "      <td> 0.53</td>\n",
       "      <td> 2</td>\n",
       "      <td> 157</td>\n",
       "      <td> 3</td>\n",
       "      <td> 0</td>\n",
       "      <td> 1</td>\n",
       "      <td> 0</td>\n",
       "      <td> 7</td>\n",
       "      <td> 1</td>\n",
       "    </tr>\n",
       "    <tr>\n",
       "      <th>1</th>\n",
       "      <td> 0.80</td>\n",
       "      <td> 0.86</td>\n",
       "      <td> 5</td>\n",
       "      <td> 262</td>\n",
       "      <td> 6</td>\n",
       "      <td> 0</td>\n",
       "      <td> 1</td>\n",
       "      <td> 0</td>\n",
       "      <td> 7</td>\n",
       "      <td> 2</td>\n",
       "    </tr>\n",
       "    <tr>\n",
       "      <th>2</th>\n",
       "      <td> 0.11</td>\n",
       "      <td> 0.88</td>\n",
       "      <td> 7</td>\n",
       "      <td> 272</td>\n",
       "      <td> 4</td>\n",
       "      <td> 0</td>\n",
       "      <td> 1</td>\n",
       "      <td> 0</td>\n",
       "      <td> 7</td>\n",
       "      <td> 2</td>\n",
       "    </tr>\n",
       "    <tr>\n",
       "      <th>3</th>\n",
       "      <td> 0.72</td>\n",
       "      <td> 0.87</td>\n",
       "      <td> 5</td>\n",
       "      <td> 223</td>\n",
       "      <td> 5</td>\n",
       "      <td> 0</td>\n",
       "      <td> 1</td>\n",
       "      <td> 0</td>\n",
       "      <td> 7</td>\n",
       "      <td> 1</td>\n",
       "    </tr>\n",
       "    <tr>\n",
       "      <th>4</th>\n",
       "      <td> 0.37</td>\n",
       "      <td> 0.52</td>\n",
       "      <td> 2</td>\n",
       "      <td> 159</td>\n",
       "      <td> 3</td>\n",
       "      <td> 0</td>\n",
       "      <td> 1</td>\n",
       "      <td> 0</td>\n",
       "      <td> 7</td>\n",
       "      <td> 1</td>\n",
       "    </tr>\n",
       "  </tbody>\n",
       "</table>\n",
       "<p>5 rows × 10 columns</p>\n",
       "</div>"
      ],
      "text/plain": [
       "   satisfaction_level  last_evaluation  number_project  average_montly_hours  \\\n",
       "0                0.38             0.53               2                   157   \n",
       "1                0.80             0.86               5                   262   \n",
       "2                0.11             0.88               7                   272   \n",
       "3                0.72             0.87               5                   223   \n",
       "4                0.37             0.52               2                   159   \n",
       "\n",
       "   time_spend_company  Work_accident  left  promotion_last_5years  sales  \\\n",
       "0                   3              0     1                      0      7   \n",
       "1                   6              0     1                      0      7   \n",
       "2                   4              0     1                      0      7   \n",
       "3                   5              0     1                      0      7   \n",
       "4                   3              0     1                      0      7   \n",
       "\n",
       "  salary  \n",
       "0      1  \n",
       "1      2  \n",
       "2      2  \n",
       "3      1  \n",
       "4      1  \n",
       "\n",
       "[5 rows x 10 columns]"
      ]
     },
     "execution_count": 285,
     "metadata": {},
     "output_type": "execute_result"
    }
   ],
   "source": [
    "for i, salary in enumerate(data.salary):\n",
    "     if salary=='low':\n",
    "        data.salary[i]=1\n",
    "\n",
    "     elif salary=='medium':\n",
    "        data.salary[i]=2\n",
    "            \n",
    "     elif salary == 'high':\n",
    "        data.salary[i] = 3\n",
    "    \n",
    "sales = sorted(data['sales'].unique())\n",
    "gen_mapp = dict(zip(sales, range(0, len(sales) + 1)))\n",
    "data['sales']  = data['sales'].map(gen_mapp).astype(int) \n",
    "\n",
    "data.head()"
   ]
  },
  {
   "cell_type": "code",
   "execution_count": 286,
   "metadata": {
    "collapsed": false
   },
   "outputs": [],
   "source": [
    "df = data\n",
    "df = df.drop(['left'],axis = 1)\n",
    "X = df.values\n",
    "y = data['left'].values # target data"
   ]
  },
  {
   "cell_type": "code",
   "execution_count": 306,
   "metadata": {
    "collapsed": false
   },
   "outputs": [],
   "source": [
    "# 70-25% of train and test\n",
    "Xtrain, Xtest, ytrain, ytest = train_test_split(X, y, test_size=0.25)"
   ]
  },
  {
   "cell_type": "code",
   "execution_count": 303,
   "metadata": {
    "collapsed": false
   },
   "outputs": [],
   "source": [
    "rand_forest = RandomForestClassifier()\n",
    "rand_forest.fit(Xtrain, ytrain)\n",
    "y_pred = rand_forest.predict_proba(Xtest)"
   ]
  },
  {
   "cell_type": "code",
   "execution_count": 304,
   "metadata": {
    "collapsed": false
   },
   "outputs": [
    {
     "name": "stdout",
     "output_type": "stream",
     "text": [
      "0.989333333333\n"
     ]
    }
   ],
   "source": [
    "accuracy = rand_forest.score(Xtest,ytest)\n",
    "print accuracy"
   ]
  },
  {
   "cell_type": "code",
   "execution_count": 307,
   "metadata": {
    "collapsed": false
   },
   "outputs": [
    {
     "data": {
      "text/plain": [
       "array([ 0.99333333,  0.992     ,  0.99466667,  0.99      ,  0.988     ,\n",
       "        0.99133333,  0.992     ,  0.98933333,  0.992     ,  0.99332889])"
      ]
     },
     "execution_count": 307,
     "metadata": {},
     "output_type": "execute_result"
    }
   ],
   "source": [
    "# cross validation\n",
    "cross_val_score(rand_forest,X,y,cv=10)"
   ]
  },
  {
   "cell_type": "code",
   "execution_count": 313,
   "metadata": {
    "collapsed": false
   },
   "outputs": [
    {
     "data": {
      "text/html": [
       "<div style=\"max-height:1000px;max-width:1500px;overflow:auto;\">\n",
       "<table border=\"1\" class=\"dataframe\">\n",
       "  <thead>\n",
       "    <tr style=\"text-align: right;\">\n",
       "      <th></th>\n",
       "      <th>0</th>\n",
       "      <th>1</th>\n",
       "      <th>2</th>\n",
       "      <th>3</th>\n",
       "      <th>4</th>\n",
       "      <th>5</th>\n",
       "      <th>6</th>\n",
       "      <th>7</th>\n",
       "      <th>8</th>\n",
       "    </tr>\n",
       "  </thead>\n",
       "  <tbody>\n",
       "    <tr>\n",
       "      <th>0</th>\n",
       "      <td> satisfaction_level</td>\n",
       "      <td> last_evaluation</td>\n",
       "      <td> number_project</td>\n",
       "      <td> average_montly_hours</td>\n",
       "      <td> time_spend_company</td>\n",
       "      <td> Work_accident</td>\n",
       "      <td> promotion_last_5years</td>\n",
       "      <td>     sales</td>\n",
       "      <td>      salary</td>\n",
       "    </tr>\n",
       "    <tr>\n",
       "      <th>1</th>\n",
       "      <td>          0.3659873</td>\n",
       "      <td>       0.1009422</td>\n",
       "      <td>      0.1636632</td>\n",
       "      <td>            0.1575158</td>\n",
       "      <td>          0.1824868</td>\n",
       "      <td>   0.006230687</td>\n",
       "      <td>          0.0007635646</td>\n",
       "      <td> 0.0129979</td>\n",
       "      <td> 0.009412408</td>\n",
       "    </tr>\n",
       "  </tbody>\n",
       "</table>\n",
       "<p>2 rows × 9 columns</p>\n",
       "</div>"
      ],
      "text/plain": [
       "                    0                1               2                     3  \\\n",
       "0  satisfaction_level  last_evaluation  number_project  average_montly_hours   \n",
       "1           0.3659873        0.1009422       0.1636632             0.1575158   \n",
       "\n",
       "                    4              5                      6          7  \\\n",
       "0  time_spend_company  Work_accident  promotion_last_5years      sales   \n",
       "1           0.1824868    0.006230687           0.0007635646  0.0129979   \n",
       "\n",
       "             8  \n",
       "0       salary  \n",
       "1  0.009412408  \n",
       "\n",
       "[2 rows x 9 columns]"
      ]
     },
     "execution_count": 313,
     "metadata": {},
     "output_type": "execute_result"
    }
   ],
   "source": [
    "# feature importance\n",
    "pd.DataFrame([df.columns,rand_forest.feature_importances_])"
   ]
  },
  {
   "cell_type": "markdown",
   "metadata": {
    "collapsed": true
   },
   "source": [
    "# Predict who will definatly leave. "
   ]
  },
  {
   "cell_type": "code",
   "execution_count": 238,
   "metadata": {
    "collapsed": false
   },
   "outputs": [],
   "source": [
    "df1 = data[data['left']==0] "
   ]
  },
  {
   "cell_type": "code",
   "execution_count": 247,
   "metadata": {
    "collapsed": false
   },
   "outputs": [
    {
     "name": "stdout",
     "output_type": "stream",
     "text": [
      "[[0.58 0.74 4 ..., 0 7 1]\n",
      " [0.82 0.67 2 ..., 0 7 1]\n",
      " [0.45 0.69 5 ..., 0 7 1]\n",
      " ..., \n",
      " [0.85 0.54 3 ..., 1 4 3]\n",
      " [0.33 0.65 3 ..., 1 5 3]\n",
      " [0.5 0.73 4 ..., 0 0 1]]\n"
     ]
    }
   ],
   "source": [
    "X = df1.values\n",
    "print X"
   ]
  },
  {
   "cell_type": "code",
   "execution_count": 252,
   "metadata": {
    "collapsed": false
   },
   "outputs": [
    {
     "data": {
      "text/plain": [
       "array([[ 1.,  0.],\n",
       "       [ 1.,  0.],\n",
       "       [ 1.,  0.],\n",
       "       ..., \n",
       "       [ 1.,  0.],\n",
       "       [ 1.,  0.],\n",
       "       [ 1.,  0.]])"
      ]
     },
     "execution_count": 252,
     "metadata": {},
     "output_type": "execute_result"
    }
   ],
   "source": [
    "pred = rand_forest.predict_proba(X)\n",
    "pred"
   ]
  },
  {
   "cell_type": "code",
   "execution_count": 250,
   "metadata": {
    "collapsed": false
   },
   "outputs": [
    {
     "data": {
      "text/plain": [
       "3"
      ]
     },
     "execution_count": 250,
     "metadata": {},
     "output_type": "execute_result"
    }
   ],
   "source": [
    "sum(pred[:,1]==1)"
   ]
  },
  {
   "cell_type": "raw",
   "metadata": {},
   "source": [
    "# three people defilnatly will leave"
   ]
  },
  {
   "cell_type": "markdown",
   "metadata": {},
   "source": [
    "Higly chance of leaving job probabilty is > 75%\n",
    "\n"
   ]
  },
  {
   "cell_type": "code",
   "execution_count": 260,
   "metadata": {
    "collapsed": false
   },
   "outputs": [
    {
     "data": {
      "text/html": [
       "<div style=\"max-height:1000px;max-width:1500px;overflow:auto;\">\n",
       "<table border=\"1\" class=\"dataframe\">\n",
       "  <thead>\n",
       "    <tr style=\"text-align: right;\">\n",
       "      <th></th>\n",
       "      <th>satisfaction_level</th>\n",
       "      <th>last_evaluation</th>\n",
       "      <th>number_project</th>\n",
       "      <th>average_montly_hours</th>\n",
       "      <th>time_spend_company</th>\n",
       "      <th>Work_accident</th>\n",
       "      <th>promotion_last_5years</th>\n",
       "      <th>sales</th>\n",
       "      <th>salary</th>\n",
       "      <th>Soon leave</th>\n",
       "    </tr>\n",
       "  </thead>\n",
       "  <tbody>\n",
       "    <tr>\n",
       "      <th>6263</th>\n",
       "      <td> 0.90</td>\n",
       "      <td> 0.87</td>\n",
       "      <td> 4</td>\n",
       "      <td> 231</td>\n",
       "      <td> 5</td>\n",
       "      <td> 0</td>\n",
       "      <td> 0</td>\n",
       "      <td> 4</td>\n",
       "      <td> 1</td>\n",
       "      <td> 0.9</td>\n",
       "    </tr>\n",
       "    <tr>\n",
       "      <th>6358</th>\n",
       "      <td> 0.81</td>\n",
       "      <td> 0.98</td>\n",
       "      <td> 5</td>\n",
       "      <td> 243</td>\n",
       "      <td> 6</td>\n",
       "      <td> 0</td>\n",
       "      <td> 0</td>\n",
       "      <td> 7</td>\n",
       "      <td> 2</td>\n",
       "      <td> 1.0</td>\n",
       "    </tr>\n",
       "    <tr>\n",
       "      <th>6466</th>\n",
       "      <td> 0.39</td>\n",
       "      <td> 0.57</td>\n",
       "      <td> 2</td>\n",
       "      <td> 132</td>\n",
       "      <td> 3</td>\n",
       "      <td> 0</td>\n",
       "      <td> 0</td>\n",
       "      <td> 8</td>\n",
       "      <td> 1</td>\n",
       "      <td> 1.0</td>\n",
       "    </tr>\n",
       "    <tr>\n",
       "      <th>7443</th>\n",
       "      <td> 0.85</td>\n",
       "      <td> 0.96</td>\n",
       "      <td> 4</td>\n",
       "      <td> 240</td>\n",
       "      <td> 6</td>\n",
       "      <td> 0</td>\n",
       "      <td> 0</td>\n",
       "      <td> 9</td>\n",
       "      <td> 2</td>\n",
       "      <td> 1.0</td>\n",
       "    </tr>\n",
       "  </tbody>\n",
       "</table>\n",
       "<p>4 rows × 10 columns</p>\n",
       "</div>"
      ],
      "text/plain": [
       "      satisfaction_level  last_evaluation  number_project  \\\n",
       "6263                0.90             0.87               4   \n",
       "6358                0.81             0.98               5   \n",
       "6466                0.39             0.57               2   \n",
       "7443                0.85             0.96               4   \n",
       "\n",
       "      average_montly_hours  time_spend_company  Work_accident  \\\n",
       "6263                   231                   5              0   \n",
       "6358                   243                   6              0   \n",
       "6466                   132                   3              0   \n",
       "7443                   240                   6              0   \n",
       "\n",
       "      promotion_last_5years  sales salary  Soon leave  \n",
       "6263                      0      4      1         0.9  \n",
       "6358                      0      7      2         1.0  \n",
       "6466                      0      8      1         1.0  \n",
       "7443                      0      9      2         1.0  \n",
       "\n",
       "[4 rows x 10 columns]"
      ]
     },
     "execution_count": 260,
     "metadata": {},
     "output_type": "execute_result"
    }
   ],
   "source": [
    "df1['Soon leave'] = pred[:,1]\n",
    "df1[df1['Soon leave'] >=0.75]"
   ]
  },
  {
   "cell_type": "markdown",
   "metadata": {},
   "source": [
    "more than 50% chance to leave"
   ]
  },
  {
   "cell_type": "code",
   "execution_count": 263,
   "metadata": {
    "collapsed": false
   },
   "outputs": [
    {
     "data": {
      "text/html": [
       "<div style=\"max-height:1000px;max-width:1500px;overflow:auto;\">\n",
       "<table border=\"1\" class=\"dataframe\">\n",
       "  <thead>\n",
       "    <tr style=\"text-align: right;\">\n",
       "      <th></th>\n",
       "      <th>satisfaction_level</th>\n",
       "      <th>last_evaluation</th>\n",
       "      <th>number_project</th>\n",
       "      <th>average_montly_hours</th>\n",
       "      <th>time_spend_company</th>\n",
       "      <th>Work_accident</th>\n",
       "      <th>promotion_last_5years</th>\n",
       "      <th>sales</th>\n",
       "      <th>salary</th>\n",
       "      <th>Soon leave</th>\n",
       "    </tr>\n",
       "  </thead>\n",
       "  <tbody>\n",
       "    <tr>\n",
       "      <th>2095 </th>\n",
       "      <td> 0.54</td>\n",
       "      <td> 0.67</td>\n",
       "      <td> 4</td>\n",
       "      <td> 282</td>\n",
       "      <td> 6</td>\n",
       "      <td> 0</td>\n",
       "      <td> 0</td>\n",
       "      <td> 9</td>\n",
       "      <td> 2</td>\n",
       "      <td> 0.5</td>\n",
       "    </tr>\n",
       "    <tr>\n",
       "      <th>2233 </th>\n",
       "      <td> 0.70</td>\n",
       "      <td> 0.89</td>\n",
       "      <td> 6</td>\n",
       "      <td> 214</td>\n",
       "      <td> 2</td>\n",
       "      <td> 0</td>\n",
       "      <td> 0</td>\n",
       "      <td> 7</td>\n",
       "      <td> 1</td>\n",
       "      <td> 0.6</td>\n",
       "    </tr>\n",
       "    <tr>\n",
       "      <th>3780 </th>\n",
       "      <td> 0.86</td>\n",
       "      <td> 0.96</td>\n",
       "      <td> 5</td>\n",
       "      <td> 238</td>\n",
       "      <td> 5</td>\n",
       "      <td> 0</td>\n",
       "      <td> 0</td>\n",
       "      <td> 9</td>\n",
       "      <td> 1</td>\n",
       "      <td> 0.6</td>\n",
       "    </tr>\n",
       "    <tr>\n",
       "      <th>5386 </th>\n",
       "      <td> 0.84</td>\n",
       "      <td> 0.93</td>\n",
       "      <td> 6</td>\n",
       "      <td> 166</td>\n",
       "      <td> 4</td>\n",
       "      <td> 0</td>\n",
       "      <td> 0</td>\n",
       "      <td> 9</td>\n",
       "      <td> 1</td>\n",
       "      <td> 0.5</td>\n",
       "    </tr>\n",
       "    <tr>\n",
       "      <th>5690 </th>\n",
       "      <td> 0.40</td>\n",
       "      <td> 0.62</td>\n",
       "      <td> 3</td>\n",
       "      <td> 283</td>\n",
       "      <td> 5</td>\n",
       "      <td> 0</td>\n",
       "      <td> 0</td>\n",
       "      <td> 9</td>\n",
       "      <td> 1</td>\n",
       "      <td> 0.7</td>\n",
       "    </tr>\n",
       "    <tr>\n",
       "      <th>5697 </th>\n",
       "      <td> 0.81</td>\n",
       "      <td> 0.98</td>\n",
       "      <td> 6</td>\n",
       "      <td> 196</td>\n",
       "      <td> 2</td>\n",
       "      <td> 0</td>\n",
       "      <td> 0</td>\n",
       "      <td> 8</td>\n",
       "      <td> 1</td>\n",
       "      <td> 0.5</td>\n",
       "    </tr>\n",
       "    <tr>\n",
       "      <th>6263 </th>\n",
       "      <td> 0.90</td>\n",
       "      <td> 0.87</td>\n",
       "      <td> 4</td>\n",
       "      <td> 231</td>\n",
       "      <td> 5</td>\n",
       "      <td> 0</td>\n",
       "      <td> 0</td>\n",
       "      <td> 4</td>\n",
       "      <td> 1</td>\n",
       "      <td> 0.9</td>\n",
       "    </tr>\n",
       "    <tr>\n",
       "      <th>6358 </th>\n",
       "      <td> 0.81</td>\n",
       "      <td> 0.98</td>\n",
       "      <td> 5</td>\n",
       "      <td> 243</td>\n",
       "      <td> 6</td>\n",
       "      <td> 0</td>\n",
       "      <td> 0</td>\n",
       "      <td> 7</td>\n",
       "      <td> 2</td>\n",
       "      <td> 1.0</td>\n",
       "    </tr>\n",
       "    <tr>\n",
       "      <th>6466 </th>\n",
       "      <td> 0.39</td>\n",
       "      <td> 0.57</td>\n",
       "      <td> 2</td>\n",
       "      <td> 132</td>\n",
       "      <td> 3</td>\n",
       "      <td> 0</td>\n",
       "      <td> 0</td>\n",
       "      <td> 8</td>\n",
       "      <td> 1</td>\n",
       "      <td> 1.0</td>\n",
       "    </tr>\n",
       "    <tr>\n",
       "      <th>7443 </th>\n",
       "      <td> 0.85</td>\n",
       "      <td> 0.96</td>\n",
       "      <td> 4</td>\n",
       "      <td> 240</td>\n",
       "      <td> 6</td>\n",
       "      <td> 0</td>\n",
       "      <td> 0</td>\n",
       "      <td> 9</td>\n",
       "      <td> 2</td>\n",
       "      <td> 1.0</td>\n",
       "    </tr>\n",
       "    <tr>\n",
       "      <th>7537 </th>\n",
       "      <td> 0.42</td>\n",
       "      <td> 0.53</td>\n",
       "      <td> 3</td>\n",
       "      <td> 181</td>\n",
       "      <td> 5</td>\n",
       "      <td> 0</td>\n",
       "      <td> 0</td>\n",
       "      <td> 9</td>\n",
       "      <td> 2</td>\n",
       "      <td> 0.6</td>\n",
       "    </tr>\n",
       "    <tr>\n",
       "      <th>10037</th>\n",
       "      <td> 0.43</td>\n",
       "      <td> 0.84</td>\n",
       "      <td> 2</td>\n",
       "      <td> 285</td>\n",
       "      <td> 5</td>\n",
       "      <td> 0</td>\n",
       "      <td> 0</td>\n",
       "      <td> 9</td>\n",
       "      <td> 1</td>\n",
       "      <td> 0.5</td>\n",
       "    </tr>\n",
       "    <tr>\n",
       "      <th>10098</th>\n",
       "      <td> 0.73</td>\n",
       "      <td> 0.83</td>\n",
       "      <td> 5</td>\n",
       "      <td> 266</td>\n",
       "      <td> 5</td>\n",
       "      <td> 0</td>\n",
       "      <td> 0</td>\n",
       "      <td> 7</td>\n",
       "      <td> 1</td>\n",
       "      <td> 0.6</td>\n",
       "    </tr>\n",
       "    <tr>\n",
       "      <th>10232</th>\n",
       "      <td> 0.32</td>\n",
       "      <td> 0.87</td>\n",
       "      <td> 4</td>\n",
       "      <td> 179</td>\n",
       "      <td> 4</td>\n",
       "      <td> 0</td>\n",
       "      <td> 0</td>\n",
       "      <td> 9</td>\n",
       "      <td> 2</td>\n",
       "      <td> 0.6</td>\n",
       "    </tr>\n",
       "    <tr>\n",
       "      <th>10671</th>\n",
       "      <td> 0.37</td>\n",
       "      <td> 0.51</td>\n",
       "      <td> 2</td>\n",
       "      <td> 153</td>\n",
       "      <td> 3</td>\n",
       "      <td> 0</td>\n",
       "      <td> 0</td>\n",
       "      <td> 0</td>\n",
       "      <td> 3</td>\n",
       "      <td> 0.5</td>\n",
       "    </tr>\n",
       "    <tr>\n",
       "      <th>12882</th>\n",
       "      <td> 0.37</td>\n",
       "      <td> 0.51</td>\n",
       "      <td> 2</td>\n",
       "      <td> 153</td>\n",
       "      <td> 3</td>\n",
       "      <td> 0</td>\n",
       "      <td> 0</td>\n",
       "      <td> 0</td>\n",
       "      <td> 3</td>\n",
       "      <td> 0.5</td>\n",
       "    </tr>\n",
       "  </tbody>\n",
       "</table>\n",
       "<p>16 rows × 10 columns</p>\n",
       "</div>"
      ],
      "text/plain": [
       "       satisfaction_level  last_evaluation  number_project  \\\n",
       "2095                 0.54             0.67               4   \n",
       "2233                 0.70             0.89               6   \n",
       "3780                 0.86             0.96               5   \n",
       "5386                 0.84             0.93               6   \n",
       "5690                 0.40             0.62               3   \n",
       "5697                 0.81             0.98               6   \n",
       "6263                 0.90             0.87               4   \n",
       "6358                 0.81             0.98               5   \n",
       "6466                 0.39             0.57               2   \n",
       "7443                 0.85             0.96               4   \n",
       "7537                 0.42             0.53               3   \n",
       "10037                0.43             0.84               2   \n",
       "10098                0.73             0.83               5   \n",
       "10232                0.32             0.87               4   \n",
       "10671                0.37             0.51               2   \n",
       "12882                0.37             0.51               2   \n",
       "\n",
       "       average_montly_hours  time_spend_company  Work_accident  \\\n",
       "2095                    282                   6              0   \n",
       "2233                    214                   2              0   \n",
       "3780                    238                   5              0   \n",
       "5386                    166                   4              0   \n",
       "5690                    283                   5              0   \n",
       "5697                    196                   2              0   \n",
       "6263                    231                   5              0   \n",
       "6358                    243                   6              0   \n",
       "6466                    132                   3              0   \n",
       "7443                    240                   6              0   \n",
       "7537                    181                   5              0   \n",
       "10037                   285                   5              0   \n",
       "10098                   266                   5              0   \n",
       "10232                   179                   4              0   \n",
       "10671                   153                   3              0   \n",
       "12882                   153                   3              0   \n",
       "\n",
       "       promotion_last_5years  sales salary  Soon leave  \n",
       "2095                       0      9      2         0.5  \n",
       "2233                       0      7      1         0.6  \n",
       "3780                       0      9      1         0.6  \n",
       "5386                       0      9      1         0.5  \n",
       "5690                       0      9      1         0.7  \n",
       "5697                       0      8      1         0.5  \n",
       "6263                       0      4      1         0.9  \n",
       "6358                       0      7      2         1.0  \n",
       "6466                       0      8      1         1.0  \n",
       "7443                       0      9      2         1.0  \n",
       "7537                       0      9      2         0.6  \n",
       "10037                      0      9      1         0.5  \n",
       "10098                      0      7      1         0.6  \n",
       "10232                      0      9      2         0.6  \n",
       "10671                      0      0      3         0.5  \n",
       "12882                      0      0      3         0.5  \n",
       "\n",
       "[16 rows x 10 columns]"
      ]
     },
     "execution_count": 263,
     "metadata": {},
     "output_type": "execute_result"
    }
   ],
   "source": [
    "df1[df1['Soon leave'] >=0.5]"
   ]
  },
  {
   "cell_type": "code",
   "execution_count": null,
   "metadata": {
    "collapsed": true
   },
   "outputs": [],
   "source": []
  }
 ],
 "metadata": {
  "kernelspec": {
   "display_name": "Python 2",
   "language": "python",
   "name": "python2"
  },
  "language_info": {
   "codemirror_mode": {
    "name": "ipython",
    "version": 2
   },
   "file_extension": ".py",
   "mimetype": "text/x-python",
   "name": "python",
   "nbconvert_exporter": "python",
   "pygments_lexer": "ipython2",
   "version": "2.7.6"
  }
 },
 "nbformat": 4,
 "nbformat_minor": 1
}
